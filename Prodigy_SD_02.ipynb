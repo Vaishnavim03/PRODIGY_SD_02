{
  "nbformat": 4,
  "nbformat_minor": 0,
  "metadata": {
    "colab": {
      "provenance": [],
      "authorship_tag": "ABX9TyPXuWf4KYtfqrFJv86TjFwp",
      "include_colab_link": true
    },
    "kernelspec": {
      "name": "python3",
      "display_name": "Python 3"
    },
    "language_info": {
      "name": "python"
    }
  },
  "cells": [
    {
      "cell_type": "markdown",
      "metadata": {
        "id": "view-in-github",
        "colab_type": "text"
      },
      "source": [
        "<a href=\"https://colab.research.google.com/github/Vaishnavim03/Prodigy_SD_02/blob/main/Prodigy_SD_02.ipynb\" target=\"_parent\"><img src=\"https://colab.research.google.com/assets/colab-badge.svg\" alt=\"Open In Colab\"/></a>"
      ]
    },
    {
      "cell_type": "code",
      "execution_count": 1,
      "metadata": {
        "colab": {
          "base_uri": "https://localhost:8080/"
        },
        "id": "FF5c8SF0FOqr",
        "outputId": "f8236695-a5b3-40dd-c66b-1c90f81fb4e6"
      },
      "outputs": [
        {
          "output_type": "stream",
          "name": "stdout",
          "text": [
            "Welcome to 'Guess the Number' game!\n",
            "I have picked a number between 1 and 100. Try to guess it!\n",
            "Enter your guess: 12\n",
            "Too low! Try again.\n",
            "Enter your guess: 50\n",
            "Too high! Try again.\n",
            "Enter your guess: 25\n",
            "Too high! Try again.\n",
            "Enter your guess: 20\n",
            "Too high! Try again.\n",
            "Enter your guess: 15\n",
            "Too high! Try again.\n",
            "Enter your guess: 14\n",
            "Congratulations! You've guessed the number 14 in 6 attempts.\n"
          ]
        }
      ],
      "source": [
        "import random\n",
        "\n",
        "def guess_the_number():\n",
        "    # Generate a random number between 1 and 100\n",
        "    number_to_guess = random.randint(1, 100)\n",
        "    attempts = 0\n",
        "    guess = None\n",
        "\n",
        "    print(\"Welcome to 'Guess the Number' game!\")\n",
        "    print(\"I have picked a number between 1 and 100. Try to guess it!\")\n",
        "\n",
        "    while guess != number_to_guess:\n",
        "        guess = int(input(\"Enter your guess: \"))\n",
        "        attempts += 1\n",
        "\n",
        "        if guess < number_to_guess:\n",
        "            print(\"Too low! Try again.\")\n",
        "        elif guess > number_to_guess:\n",
        "            print(\"Too high! Try again.\")\n",
        "        else:\n",
        "            print(f\"Congratulations! You've guessed the number {number_to_guess} in {attempts} attempts.\")\n",
        "\n",
        "# Run the game\n",
        "guess_the_number()"
      ]
    }
  ]
}